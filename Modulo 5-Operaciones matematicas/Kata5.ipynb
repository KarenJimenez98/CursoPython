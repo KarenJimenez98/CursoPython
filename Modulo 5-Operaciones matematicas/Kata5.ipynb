{
 "cells": [
  {
   "cell_type": "markdown",
   "metadata": {},
   "source": [
    "# Ejercicio1 - Utilizar operadores aritméticos"
   ]
  },
  {
   "cell_type": "code",
   "execution_count": null,
   "metadata": {},
   "outputs": [],
   "source": [
    "# Crear variables para almacenar las dos distancias\n",
    "# ¡Asegúrate de quitar las comas!\n",
    "dist_tierra = 149597870\n",
    "dist_jupiter = 778547200"
   ]
  },
  {
   "cell_type": "markdown",
   "metadata": {},
   "source": [
    "## Realizar la operación"
   ]
  },
  {
   "cell_type": "code",
   "execution_count": null,
   "metadata": {},
   "outputs": [],
   "source": [
    "# Calcular la distancia entre planetas\n",
    "dist_km = dist_jupiter - dist_tierra\n",
    "print(dist_km)\n",
    "dist_millas = dist_km * 0.621\n",
    "print(dist_millas)"
   ]
  },
  {
   "cell_type": "markdown",
   "metadata": {},
   "source": [
    "# Ejercicio 2: convierte cadenas en números y usa valores absolutos"
   ]
  },
  {
   "cell_type": "code",
   "execution_count": 9,
   "metadata": {},
   "outputs": [],
   "source": [
    "# Almacenar las entradas del usuario\n",
    "#Pista: variable = input(\"¿Cuál es tu nombre?\")\n",
    "planet1 = input('Intrduzca la distancia del primer planeta')\n",
    "planet2 = input('Introduzca la distancia del segundo planeta')"
   ]
  },
  {
   "cell_type": "code",
   "execution_count": 10,
   "metadata": {},
   "outputs": [
    {
     "name": "stdout",
     "output_type": "stream",
     "text": [
      "57900000\n",
      "108200000\n"
     ]
    }
   ],
   "source": [
    "# Convierte las cadenas de ambos planetas a números enteros\n",
    "planet1_num = int(planet1)\n",
    "print(planet1_num)\n",
    "planet2_num = int(planet2)\n",
    "print(planet2_num)\n"
   ]
  },
  {
   "cell_type": "code",
   "execution_count": 11,
   "metadata": {},
   "outputs": [
    {
     "name": "stdout",
     "output_type": "stream",
     "text": [
      "50300000\n",
      "31236300.0\n"
     ]
    }
   ],
   "source": [
    "# Realizar el cálculo y determinar el valor absoluto\n",
    "dist_planets = abs(planet2_num) - planet1_num\n",
    "print(dist_planets)\n",
    "# Convertir de KM a Millas\n",
    "dist_mill = dist_planets * 0.621\n",
    "print(dist_mill)"
   ]
  }
 ],
 "metadata": {
  "interpreter": {
   "hash": "33541a670e8887513ebdf0f19cec6625b51694c5ef6b1c7e83282c54d5cd54e5"
  },
  "kernelspec": {
   "display_name": "Python 3.10.2 64-bit",
   "language": "python",
   "name": "python3"
  },
  "language_info": {
   "codemirror_mode": {
    "name": "ipython",
    "version": 3
   },
   "file_extension": ".py",
   "mimetype": "text/x-python",
   "name": "python",
   "nbconvert_exporter": "python",
   "pygments_lexer": "ipython3",
   "version": "3.10.2"
  },
  "orig_nbformat": 4
 },
 "nbformat": 4,
 "nbformat_minor": 2
}

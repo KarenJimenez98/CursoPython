{
 "cells": [
  {
   "cell_type": "markdown",
   "metadata": {},
   "source": [
    "## Ejercicio 1: Trabajar con argumentos en funciones"
   ]
  },
  {
   "cell_type": "code",
   "execution_count": null,
   "metadata": {},
   "outputs": [],
   "source": [
    "#Función para leer 3 tanques de combustible y muestre el promedio\n",
    "def report(tank1, tank2, tank3):\n",
    "    return (tank1 + tank2 + tank3)/3\n",
    "\n",
    "# Llamamos a la función que genera el reporte print(funcion(tanque1, tanque2, tanque3))\n",
    "print(report(12, 34, 50))\n",
    "\n",
    "# Función promedio \n",
    "def average(values):\n",
    "    summation = sum(values)\n",
    "    items = len(values)\n",
    "    return summation/items\n",
    "\n",
    "average([100, 50, 160])\n",
    "\n",
    "\n",
    "# Actualiza la función\n",
    "def report(tank1, tank2, tank3):\n",
    "    return f\"\"\"Informe de combustible:\n",
    "    Promedio: {average([tank1, tank2, tank3])}%\n",
    "    Tanque 1: {tank1}%\n",
    "    Tanque 2: {tank2}%\n",
    "    Tanque 3: {tank3}% \n",
    "    \"\"\"\n",
    "    \n",
    "print(report(100, 50, 160))"
   ]
  },
  {
   "cell_type": "markdown",
   "metadata": {},
   "source": [
    "## Ejercicio 2: Trabajo con argumentos de palabra clave"
   ]
  },
  {
   "cell_type": "code",
   "execution_count": null,
   "metadata": {},
   "outputs": [],
   "source": [
    "# Función con un informe preciso de la misión. Considera hora de prelanzamiento, tiempo de vuelo, destino, tanque externo y tanque interno\n",
    "def rocket_report(prelaunch_time, flight_time, destination, external_tank, internal_tank):\n",
    "     return f\"\"\"\n",
    "    Misión a {destination}\n",
    "    Tiempo de vuelo: {prelaunch_time + flight_time} minutos\n",
    "    Combustible restante: {external_tank + internal_tank} galones\n",
    "    \"\"\"\n",
    "\n",
    "print(rocket_report(14, 51, \"La Luna\", 200000, 300000))\n",
    "\n",
    "# Escribe tu nueva función de reporte considerando lo anterior\n",
    "def rocket_report(destination, *minutes, **fuel_reservoirs):\n",
    "    return f\"\"\"\n",
    "    Misión a {destination}\n",
    "    Tiempo de vuelo: {sum(minutes)} minutos\n",
    "    Combustible restante: {sum(fuel_reservoirs.values())} galones\n",
    "    \"\"\"\n",
    "print(rocket_report(\"La Luna\", 10, 15, 51, main=300000, external=200000))\n",
    "\n",
    "# Escribe tu nueva función\n",
    "\n",
    "def rocket_report(destination, *minutes, **fuel_reservoirs):\n",
    "    main_report = f\"\"\"\n",
    "    Misión a {destination}\n",
    "    Tiempo de vuelo: {sum(minutes)} minutos\n",
    "    Combustible restante: {sum(fuel_reservoirs.values())} galones\n",
    "    \"\"\"\n",
    "    for tank_name, gallons in fuel_reservoirs.items():\n",
    "        main_report += f\"{tank_name} tank --> {gallons} gallons left\\n\"\n",
    "    return main_report\n",
    "\n",
    "print(rocket_report(\"La Luna\", 10, 15, 51, main=300000, external=200000))"
   ]
  }
 ],
 "metadata": {
  "interpreter": {
   "hash": "33541a670e8887513ebdf0f19cec6625b51694c5ef6b1c7e83282c54d5cd54e5"
  },
  "kernelspec": {
   "display_name": "Python 3.10.2 64-bit",
   "language": "python",
   "name": "python3"
  },
  "language_info": {
   "codemirror_mode": {
    "name": "ipython",
    "version": 3
   },
   "file_extension": ".py",
   "mimetype": "text/x-python",
   "name": "python",
   "nbconvert_exporter": "python",
   "pygments_lexer": "ipython3",
   "version": "3.10.2"
  },
  "orig_nbformat": 4
 },
 "nbformat": 4,
 "nbformat_minor": 2
}
